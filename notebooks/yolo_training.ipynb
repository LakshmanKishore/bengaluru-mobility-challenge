{
 "cells": [
  {
   "cell_type": "code",
   "execution_count": 1,
   "metadata": {},
   "outputs": [],
   "source": [
    "import os"
   ]
  },
  {
   "cell_type": "code",
   "execution_count": 2,
   "metadata": {},
   "outputs": [
    {
     "name": "stderr",
     "output_type": "stream",
     "text": [
      "Cloning into 'yolov5'...\n"
     ]
    }
   ],
   "source": [
    "#!git clone https://github.com/ultralytics/yolov5.git"
   ]
  },
  {
   "cell_type": "code",
   "execution_count": 2,
   "metadata": {},
   "outputs": [],
   "source": [
    "os.chdir(\"../hackathon-info\")"
   ]
  },
  {
   "cell_type": "code",
   "execution_count": 3,
   "metadata": {},
   "outputs": [],
   "source": [
    "os.chdir('yolov5')"
   ]
  },
  {
   "cell_type": "code",
   "execution_count": 4,
   "metadata": {},
   "outputs": [
    {
     "name": "stdout",
     "output_type": "stream",
     "text": [
      " Volume in drive D is Data\n",
      " Volume Serial Number is D6C1-11A7\n",
      "\n",
      " Directory of d:\\Github\\Data_Science\\hackathon\\bengaluru-mobility-challenge\\hackathon-info\\yolov5\n",
      "\n",
      "28-07-2024  19:10    <DIR>          .\n",
      "28-07-2024  19:10    <DIR>          ..\n",
      "27-07-2024  20:03             3,923 .dockerignore\n",
      "27-07-2024  20:03                77 .gitattributes\n",
      "28-07-2024  19:10    <DIR>          .github\n",
      "28-07-2024  18:43             4,284 .gitignore\n",
      "27-07-2024  20:03            14,412 benchmarks.py\n",
      "27-07-2024  20:03               407 CITATION.cff\n",
      "28-07-2024  19:10    <DIR>          classify\n",
      "27-07-2024  20:03             5,074 CONTRIBUTING.md\n",
      "28-07-2024  19:10    <DIR>          data\n",
      "27-07-2024  19:39               113 data.yaml\n",
      "28-07-2024  19:10    <DIR>          data_images\n",
      "27-07-2024  20:03            23,507 detect.py\n",
      "28-07-2024  19:10    <DIR>          env\n",
      "27-07-2024  20:03            67,928 export.py\n",
      "27-07-2024  20:03            24,477 hubconf.py\n",
      "27-07-2024  20:03            35,184 LICENSE\n",
      "28-07-2024  19:10    <DIR>          models\n",
      "27-07-2024  20:03             5,524 pyproject.toml\n",
      "27-07-2024  20:03            43,041 README.md\n",
      "27-07-2024  20:03            42,763 README.zh-CN.md\n",
      "27-07-2024  20:03             1,647 requirements.txt\n",
      "28-07-2024  19:10    <DIR>          runs\n",
      "28-07-2024  19:10    <DIR>          segment\n",
      "27-07-2024  20:03            48,116 train.py\n",
      "27-07-2024  20:03            42,085 tutorial.ipynb\n",
      "28-07-2024  19:10    <DIR>          utils\n",
      "27-07-2024  20:03            31,027 val.py\n",
      "27-07-2024  21:43        14,808,437 yolov5s.pt\n",
      "28-07-2024  19:10    <DIR>          __pycache__\n",
      "              19 File(s)     15,202,026 bytes\n",
      "              12 Dir(s)  276,731,346,944 bytes free\n"
     ]
    }
   ],
   "source": [
    "!ls"
   ]
  },
  {
   "cell_type": "markdown",
   "metadata": {},
   "source": [
    "### Training yolov5 model"
   ]
  },
  {
   "cell_type": "code",
   "execution_count": 5,
   "metadata": {},
   "outputs": [
    {
     "name": "stdout",
     "output_type": "stream",
     "text": [
      "^C\n"
     ]
    }
   ],
   "source": [
    "!python train.py --data data.yaml --cfg yolov5s.yaml --batch-size 8 --name Model --epochs 50"
   ]
  },
  {
   "cell_type": "code",
   "execution_count": null,
   "metadata": {},
   "outputs": [],
   "source": [
    "!python train.py --data data.yaml --cfg yolov5s.yaml --batch-size 8 --name Modelepoch100 --epochs 100"
   ]
  },
  {
   "cell_type": "code",
   "execution_count": null,
   "metadata": {},
   "outputs": [],
   "source": []
  }
 ],
 "metadata": {
  "kernelspec": {
   "display_name": "yoloenv",
   "language": "python",
   "name": "python3"
  },
  "language_info": {
   "codemirror_mode": {
    "name": "ipython",
    "version": 3
   },
   "file_extension": ".py",
   "mimetype": "text/x-python",
   "name": "python",
   "nbconvert_exporter": "python",
   "pygments_lexer": "ipython3",
   "version": "3.10.14"
  }
 },
 "nbformat": 4,
 "nbformat_minor": 2
}
